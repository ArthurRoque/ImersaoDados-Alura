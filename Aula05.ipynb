{
 "cells": [
  {
   "cell_type": "markdown",
   "id": "bound-finland",
   "metadata": {},
   "source": [
    "# Machine Learning e sci-kit Learning"
   ]
  },
  {
   "cell_type": "code",
   "execution_count": 170,
   "id": "legendary-constraint",
   "metadata": {},
   "outputs": [],
   "source": [
    "import pandas as pd\n",
    "\n",
    "url = \"https://github.com/alura-cursos/imersaodados3/blob/main/dados/dados_experimentos.zip?raw=true\"\n",
    "experimentos = pd.read_csv(url, compression='zip')\n",
    "mapa = {'droga':'composto'}\n",
    "\n",
    "for coluna in experimentos.columns:\n",
    "    if coluna != 'droga':\n",
    "        mapa[coluna] = coluna.replace(\"-\", \"\")\n",
    "experimentos.rename(columns=mapa, inplace=True)\n",
    "\n",
    "resultados = 'https://github.com/alura-cursos/imersao-dados-desafio-final/blob/main/Dados/dados_resultados.csv?raw=true'\n",
    "resultados = pd.read_csv(resultados)"
   ]
  },
  {
   "cell_type": "code",
   "execution_count": 171,
   "id": "composed-desire",
   "metadata": {},
   "outputs": [
    {
     "data": {
      "text/html": [
       "<div>\n",
       "<style scoped>\n",
       "    .dataframe tbody tr th:only-of-type {\n",
       "        vertical-align: middle;\n",
       "    }\n",
       "\n",
       "    .dataframe tbody tr th {\n",
       "        vertical-align: top;\n",
       "    }\n",
       "\n",
       "    .dataframe thead th {\n",
       "        text-align: right;\n",
       "    }\n",
       "</style>\n",
       "<table border=\"1\" class=\"dataframe\">\n",
       "  <thead>\n",
       "    <tr style=\"text-align: right;\">\n",
       "      <th></th>\n",
       "      <th>id</th>\n",
       "      <th>tratamento</th>\n",
       "      <th>tempo</th>\n",
       "      <th>dose</th>\n",
       "      <th>composto</th>\n",
       "      <th>g0</th>\n",
       "      <th>g1</th>\n",
       "      <th>g2</th>\n",
       "      <th>g3</th>\n",
       "      <th>g4</th>\n",
       "      <th>...</th>\n",
       "      <th>c92</th>\n",
       "      <th>c93</th>\n",
       "      <th>c94</th>\n",
       "      <th>c95</th>\n",
       "      <th>c96</th>\n",
       "      <th>c97</th>\n",
       "      <th>c98</th>\n",
       "      <th>c99</th>\n",
       "      <th>n_moa</th>\n",
       "      <th>moa_ativo</th>\n",
       "    </tr>\n",
       "  </thead>\n",
       "  <tbody>\n",
       "    <tr>\n",
       "      <th>0</th>\n",
       "      <td>id_000644bb2</td>\n",
       "      <td>com_droga</td>\n",
       "      <td>24</td>\n",
       "      <td>D1</td>\n",
       "      <td>b68db1d53</td>\n",
       "      <td>1.0620</td>\n",
       "      <td>0.5577</td>\n",
       "      <td>-0.2479</td>\n",
       "      <td>-0.6208</td>\n",
       "      <td>-0.1944</td>\n",
       "      <td>...</td>\n",
       "      <td>0.8076</td>\n",
       "      <td>0.5523</td>\n",
       "      <td>-0.1912</td>\n",
       "      <td>0.6584</td>\n",
       "      <td>-0.3981</td>\n",
       "      <td>0.2139</td>\n",
       "      <td>0.3801</td>\n",
       "      <td>0.4176</td>\n",
       "      <td>1</td>\n",
       "      <td>1</td>\n",
       "    </tr>\n",
       "    <tr>\n",
       "      <th>1</th>\n",
       "      <td>id_000779bfc</td>\n",
       "      <td>com_droga</td>\n",
       "      <td>72</td>\n",
       "      <td>D1</td>\n",
       "      <td>df89a8e5a</td>\n",
       "      <td>0.0743</td>\n",
       "      <td>0.4087</td>\n",
       "      <td>0.2991</td>\n",
       "      <td>0.0604</td>\n",
       "      <td>1.0190</td>\n",
       "      <td>...</td>\n",
       "      <td>0.4708</td>\n",
       "      <td>0.0230</td>\n",
       "      <td>0.2957</td>\n",
       "      <td>0.4899</td>\n",
       "      <td>0.1522</td>\n",
       "      <td>0.1241</td>\n",
       "      <td>0.6077</td>\n",
       "      <td>0.7371</td>\n",
       "      <td>0</td>\n",
       "      <td>0</td>\n",
       "    </tr>\n",
       "    <tr>\n",
       "      <th>2</th>\n",
       "      <td>id_000a6266a</td>\n",
       "      <td>com_droga</td>\n",
       "      <td>48</td>\n",
       "      <td>D1</td>\n",
       "      <td>18bb41b2c</td>\n",
       "      <td>0.6280</td>\n",
       "      <td>0.5817</td>\n",
       "      <td>1.5540</td>\n",
       "      <td>-0.0764</td>\n",
       "      <td>-0.0323</td>\n",
       "      <td>...</td>\n",
       "      <td>0.6103</td>\n",
       "      <td>0.0223</td>\n",
       "      <td>-1.3240</td>\n",
       "      <td>-0.3174</td>\n",
       "      <td>-0.6417</td>\n",
       "      <td>-0.2187</td>\n",
       "      <td>-1.4080</td>\n",
       "      <td>0.6931</td>\n",
       "      <td>3</td>\n",
       "      <td>1</td>\n",
       "    </tr>\n",
       "    <tr>\n",
       "      <th>3</th>\n",
       "      <td>id_0015fd391</td>\n",
       "      <td>com_droga</td>\n",
       "      <td>48</td>\n",
       "      <td>D1</td>\n",
       "      <td>8c7f86626</td>\n",
       "      <td>-0.5138</td>\n",
       "      <td>-0.2491</td>\n",
       "      <td>-0.2656</td>\n",
       "      <td>0.5288</td>\n",
       "      <td>4.0620</td>\n",
       "      <td>...</td>\n",
       "      <td>-5.6300</td>\n",
       "      <td>-1.3780</td>\n",
       "      <td>-0.8632</td>\n",
       "      <td>-1.2880</td>\n",
       "      <td>-1.6210</td>\n",
       "      <td>-0.8784</td>\n",
       "      <td>-0.3876</td>\n",
       "      <td>-0.8154</td>\n",
       "      <td>0</td>\n",
       "      <td>0</td>\n",
       "    </tr>\n",
       "    <tr>\n",
       "      <th>4</th>\n",
       "      <td>id_001626bd3</td>\n",
       "      <td>com_droga</td>\n",
       "      <td>72</td>\n",
       "      <td>D2</td>\n",
       "      <td>7cbed3131</td>\n",
       "      <td>-0.3254</td>\n",
       "      <td>-0.4009</td>\n",
       "      <td>0.9700</td>\n",
       "      <td>0.6919</td>\n",
       "      <td>1.4180</td>\n",
       "      <td>...</td>\n",
       "      <td>0.6670</td>\n",
       "      <td>1.0690</td>\n",
       "      <td>0.5523</td>\n",
       "      <td>-0.3031</td>\n",
       "      <td>0.1094</td>\n",
       "      <td>0.2885</td>\n",
       "      <td>-0.3786</td>\n",
       "      <td>0.7125</td>\n",
       "      <td>1</td>\n",
       "      <td>1</td>\n",
       "    </tr>\n",
       "    <tr>\n",
       "      <th>...</th>\n",
       "      <td>...</td>\n",
       "      <td>...</td>\n",
       "      <td>...</td>\n",
       "      <td>...</td>\n",
       "      <td>...</td>\n",
       "      <td>...</td>\n",
       "      <td>...</td>\n",
       "      <td>...</td>\n",
       "      <td>...</td>\n",
       "      <td>...</td>\n",
       "      <td>...</td>\n",
       "      <td>...</td>\n",
       "      <td>...</td>\n",
       "      <td>...</td>\n",
       "      <td>...</td>\n",
       "      <td>...</td>\n",
       "      <td>...</td>\n",
       "      <td>...</td>\n",
       "      <td>...</td>\n",
       "      <td>...</td>\n",
       "      <td>...</td>\n",
       "    </tr>\n",
       "    <tr>\n",
       "      <th>23809</th>\n",
       "      <td>id_fffb1ceed</td>\n",
       "      <td>com_droga</td>\n",
       "      <td>24</td>\n",
       "      <td>D2</td>\n",
       "      <td>df1d0a5a1</td>\n",
       "      <td>0.1394</td>\n",
       "      <td>-0.0636</td>\n",
       "      <td>-0.1112</td>\n",
       "      <td>-0.5080</td>\n",
       "      <td>-0.4713</td>\n",
       "      <td>...</td>\n",
       "      <td>-0.8121</td>\n",
       "      <td>0.3434</td>\n",
       "      <td>0.5372</td>\n",
       "      <td>-0.3246</td>\n",
       "      <td>0.0631</td>\n",
       "      <td>0.9171</td>\n",
       "      <td>0.5258</td>\n",
       "      <td>0.4680</td>\n",
       "      <td>1</td>\n",
       "      <td>1</td>\n",
       "    </tr>\n",
       "    <tr>\n",
       "      <th>23810</th>\n",
       "      <td>id_fffb70c0c</td>\n",
       "      <td>com_droga</td>\n",
       "      <td>24</td>\n",
       "      <td>D2</td>\n",
       "      <td>ecf3b6b74</td>\n",
       "      <td>-1.3260</td>\n",
       "      <td>0.3478</td>\n",
       "      <td>-0.3743</td>\n",
       "      <td>0.9905</td>\n",
       "      <td>-0.7178</td>\n",
       "      <td>...</td>\n",
       "      <td>0.0423</td>\n",
       "      <td>-0.3195</td>\n",
       "      <td>-0.8086</td>\n",
       "      <td>-0.9798</td>\n",
       "      <td>-0.2084</td>\n",
       "      <td>-0.1224</td>\n",
       "      <td>-0.2715</td>\n",
       "      <td>0.3689</td>\n",
       "      <td>1</td>\n",
       "      <td>1</td>\n",
       "    </tr>\n",
       "    <tr>\n",
       "      <th>23811</th>\n",
       "      <td>id_fffc1c3f4</td>\n",
       "      <td>com_controle</td>\n",
       "      <td>48</td>\n",
       "      <td>D2</td>\n",
       "      <td>cacb2b860</td>\n",
       "      <td>0.3942</td>\n",
       "      <td>0.3756</td>\n",
       "      <td>0.3109</td>\n",
       "      <td>-0.7389</td>\n",
       "      <td>0.5505</td>\n",
       "      <td>...</td>\n",
       "      <td>0.7343</td>\n",
       "      <td>0.2807</td>\n",
       "      <td>0.4116</td>\n",
       "      <td>0.6422</td>\n",
       "      <td>0.2256</td>\n",
       "      <td>0.7592</td>\n",
       "      <td>0.6656</td>\n",
       "      <td>0.3808</td>\n",
       "      <td>0</td>\n",
       "      <td>0</td>\n",
       "    </tr>\n",
       "    <tr>\n",
       "      <th>23812</th>\n",
       "      <td>id_fffcb9e7c</td>\n",
       "      <td>com_droga</td>\n",
       "      <td>24</td>\n",
       "      <td>D1</td>\n",
       "      <td>8b87a7a83</td>\n",
       "      <td>0.6660</td>\n",
       "      <td>0.2324</td>\n",
       "      <td>0.4392</td>\n",
       "      <td>0.2044</td>\n",
       "      <td>0.8531</td>\n",
       "      <td>...</td>\n",
       "      <td>-0.2012</td>\n",
       "      <td>0.1506</td>\n",
       "      <td>1.5230</td>\n",
       "      <td>0.7101</td>\n",
       "      <td>0.1732</td>\n",
       "      <td>0.7015</td>\n",
       "      <td>-0.6290</td>\n",
       "      <td>0.0740</td>\n",
       "      <td>1</td>\n",
       "      <td>1</td>\n",
       "    </tr>\n",
       "    <tr>\n",
       "      <th>23813</th>\n",
       "      <td>id_ffffdd77b</td>\n",
       "      <td>com_droga</td>\n",
       "      <td>72</td>\n",
       "      <td>D1</td>\n",
       "      <td>972f41291</td>\n",
       "      <td>-0.8598</td>\n",
       "      <td>1.0240</td>\n",
       "      <td>-0.1361</td>\n",
       "      <td>0.7952</td>\n",
       "      <td>-0.3611</td>\n",
       "      <td>...</td>\n",
       "      <td>-6.6300</td>\n",
       "      <td>-4.0950</td>\n",
       "      <td>-7.3860</td>\n",
       "      <td>-1.4160</td>\n",
       "      <td>-3.5770</td>\n",
       "      <td>-0.4775</td>\n",
       "      <td>-2.1500</td>\n",
       "      <td>-4.2520</td>\n",
       "      <td>0</td>\n",
       "      <td>0</td>\n",
       "    </tr>\n",
       "  </tbody>\n",
       "</table>\n",
       "<p>23814 rows × 879 columns</p>\n",
       "</div>"
      ],
      "text/plain": [
       "                 id    tratamento  tempo dose   composto      g0      g1  \\\n",
       "0      id_000644bb2     com_droga     24   D1  b68db1d53  1.0620  0.5577   \n",
       "1      id_000779bfc     com_droga     72   D1  df89a8e5a  0.0743  0.4087   \n",
       "2      id_000a6266a     com_droga     48   D1  18bb41b2c  0.6280  0.5817   \n",
       "3      id_0015fd391     com_droga     48   D1  8c7f86626 -0.5138 -0.2491   \n",
       "4      id_001626bd3     com_droga     72   D2  7cbed3131 -0.3254 -0.4009   \n",
       "...             ...           ...    ...  ...        ...     ...     ...   \n",
       "23809  id_fffb1ceed     com_droga     24   D2  df1d0a5a1  0.1394 -0.0636   \n",
       "23810  id_fffb70c0c     com_droga     24   D2  ecf3b6b74 -1.3260  0.3478   \n",
       "23811  id_fffc1c3f4  com_controle     48   D2  cacb2b860  0.3942  0.3756   \n",
       "23812  id_fffcb9e7c     com_droga     24   D1  8b87a7a83  0.6660  0.2324   \n",
       "23813  id_ffffdd77b     com_droga     72   D1  972f41291 -0.8598  1.0240   \n",
       "\n",
       "           g2      g3      g4  ...     c92     c93     c94     c95     c96  \\\n",
       "0     -0.2479 -0.6208 -0.1944  ...  0.8076  0.5523 -0.1912  0.6584 -0.3981   \n",
       "1      0.2991  0.0604  1.0190  ...  0.4708  0.0230  0.2957  0.4899  0.1522   \n",
       "2      1.5540 -0.0764 -0.0323  ...  0.6103  0.0223 -1.3240 -0.3174 -0.6417   \n",
       "3     -0.2656  0.5288  4.0620  ... -5.6300 -1.3780 -0.8632 -1.2880 -1.6210   \n",
       "4      0.9700  0.6919  1.4180  ...  0.6670  1.0690  0.5523 -0.3031  0.1094   \n",
       "...       ...     ...     ...  ...     ...     ...     ...     ...     ...   \n",
       "23809 -0.1112 -0.5080 -0.4713  ... -0.8121  0.3434  0.5372 -0.3246  0.0631   \n",
       "23810 -0.3743  0.9905 -0.7178  ...  0.0423 -0.3195 -0.8086 -0.9798 -0.2084   \n",
       "23811  0.3109 -0.7389  0.5505  ...  0.7343  0.2807  0.4116  0.6422  0.2256   \n",
       "23812  0.4392  0.2044  0.8531  ... -0.2012  0.1506  1.5230  0.7101  0.1732   \n",
       "23813 -0.1361  0.7952 -0.3611  ... -6.6300 -4.0950 -7.3860 -1.4160 -3.5770   \n",
       "\n",
       "          c97     c98     c99  n_moa  moa_ativo  \n",
       "0      0.2139  0.3801  0.4176      1          1  \n",
       "1      0.1241  0.6077  0.7371      0          0  \n",
       "2     -0.2187 -1.4080  0.6931      3          1  \n",
       "3     -0.8784 -0.3876 -0.8154      0          0  \n",
       "4      0.2885 -0.3786  0.7125      1          1  \n",
       "...       ...     ...     ...    ...        ...  \n",
       "23809  0.9171  0.5258  0.4680      1          1  \n",
       "23810 -0.1224 -0.2715  0.3689      1          1  \n",
       "23811  0.7592  0.6656  0.3808      0          0  \n",
       "23812  0.7015 -0.6290  0.0740      1          1  \n",
       "23813 -0.4775 -2.1500 -4.2520      0          0  \n",
       "\n",
       "[23814 rows x 879 columns]"
      ]
     },
     "execution_count": 171,
     "metadata": {},
     "output_type": "execute_result"
    }
   ],
   "source": [
    "### criando a coluna n_moa que representa o número de moas ativados para cada cultura .\n",
    "resultados['n_moa'] = resultados.drop('id', axis=1).sum(axis=1)\n",
    "\n",
    "### criando a coluna moa_ativo que representa se um moa foi ativo ou não.\n",
    "resultados['moa_ativo'] = (resultados['n_moa'] !=0).astype(int)\n",
    "\n",
    "### Combinando a coluna n_moa com o dataset dos experimentos usando o id como chave (elemento em comum para a combinação) \n",
    "dados_combinados = pd.merge(experimentos, resultados[['id','n_moa','moa_ativo']], on='id')\n",
    "dados_combinados"
   ]
  },
  {
   "cell_type": "markdown",
   "id": "unusual-worst",
   "metadata": {},
   "source": [
    "### Classificação binária\n",
    "Dado os experimentos, queremos saber se QUALQUER mecanismo de ação foi ativado ou não. Basicamente, queremos que o modelo faça predições compatível com a última coluna da nossa base de dados \"dados_combinados\", a \"ativo_moa\". Na aula 5, os instrutores utilizaram o modelo de regressão logística."
   ]
  },
  {
   "cell_type": "code",
   "execution_count": 172,
   "id": "amazing-pointer",
   "metadata": {},
   "outputs": [
    {
     "data": {
      "text/plain": [
       "0.6401427671635523"
      ]
     },
     "execution_count": 172,
     "metadata": {},
     "output_type": "execute_result"
    }
   ],
   "source": [
    "from sklearn.linear_model import LogisticRegression\n",
    "from sklearn.model_selection import train_test_split\n",
    "\n",
    "x = dados_combinados.select_dtypes('float64') # Assinatura da cultura (genes e tipos celulares)\n",
    "y = dados_combinados['moa_ativo'] # Resposta (label), se um MOA foi ativado ou não.\n",
    "\n",
    "x_treino, x_teste, y_treino, y_teste = train_test_split(x, y, test_size = 0.2, random_state=502)\n",
    "\n",
    "# Definindo estimator\n",
    "modelo_rlogistica = LogisticRegression(max_iter=1000)\n",
    "\n",
    "# Treinando modelo\n",
    "modelo_rlogistica.fit(x_treino, y_treino)\n",
    "\n",
    "# Medindo a acurácia do modelo\n",
    "modelo_rlogistica.score(x_teste, y_teste)"
   ]
  },
  {
   "cell_type": "markdown",
   "id": "recreational-release",
   "metadata": {},
   "source": [
    "A acurácia desse modelo foi de aproximadamente 63%."
   ]
  },
  {
   "cell_type": "markdown",
   "id": "interpreted-ultimate",
   "metadata": {},
   "source": [
    "## Desafio 01 - Tente outros modelos ou mude os parâmetros dos modelos que testamos em aula."
   ]
  },
  {
   "cell_type": "code",
   "execution_count": 173,
   "id": "adjacent-brand",
   "metadata": {},
   "outputs": [],
   "source": [
    "# O parâmetro random_state é usado para reproduzir o seu problema da mesma forma toda vez que é executado.\n",
    "from random import randint \n",
    "random_state=randint(100,900)"
   ]
  },
  {
   "cell_type": "code",
   "execution_count": 174,
   "id": "integrated-carbon",
   "metadata": {},
   "outputs": [],
   "source": [
    "x = dados_combinados.select_dtypes('float64') # Assinatura da cultura (genes e tipos celulares)\n",
    "y = dados_combinados['moa_ativo'] # Resposta (label), se um MOA foi ativado ou não."
   ]
  },
  {
   "cell_type": "markdown",
   "id": "separate-astronomy",
   "metadata": {},
   "source": [
    "* Linear Support vector machine"
   ]
  },
  {
   "cell_type": "code",
   "execution_count": 175,
   "id": "binding-injection",
   "metadata": {},
   "outputs": [
    {
     "data": {
      "text/plain": [
       "0.6632374553852614"
      ]
     },
     "execution_count": 175,
     "metadata": {},
     "output_type": "execute_result"
    }
   ],
   "source": [
    "from sklearn import svm\n",
    "\n",
    "x_treino, x_teste, y_treino, y_teste = train_test_split(x, y, test_size = 0.2, random_state=random_state)\n",
    "\n",
    "classifier = svm.SVC()\n",
    "classifier.fit(x_treino, y_treino)\n",
    "classifier.score(x_teste, y_teste)"
   ]
  },
  {
   "cell_type": "markdown",
   "id": "dried-consumption",
   "metadata": {},
   "source": [
    "* Nearest Neighbors"
   ]
  },
  {
   "cell_type": "code",
   "execution_count": 176,
   "id": "suitable-british",
   "metadata": {},
   "outputs": [
    {
     "data": {
      "text/plain": [
       "0.6430820911190426"
      ]
     },
     "execution_count": 176,
     "metadata": {},
     "output_type": "execute_result"
    }
   ],
   "source": [
    "from sklearn.neighbors import KNeighborsClassifier\n",
    "\n",
    "x_treino, x_teste, y_treino, y_teste = train_test_split(x, y, test_size = 0.2, random_state=random_state)\n",
    "\n",
    "knn = KNeighborsClassifier(n_neighbors=80)\n",
    "knn.fit(x_treino,y_treino)\n",
    "knn.score(x_teste, y_teste)"
   ]
  },
  {
   "cell_type": "markdown",
   "id": "finnish-insulation",
   "metadata": {},
   "source": [
    "## Desafio 02 - Estude a documentação do Sklearn."
   ]
  },
  {
   "cell_type": "markdown",
   "id": "prime-shield",
   "metadata": {},
   "source": [
    "## Desafio 03 - Pesquisar o fluxograma 'Escolhendo o melhor modelo' choosing the right estimator.\n",
    "O fluxograma <a href=\"https://scikit-learn.org/stable/tutorial/machine_learning_map/index.html\">Choosing The Right Estimator</a> disponibilizado pela sci-kit learn. É um material para ajudar na escolha do melhor estimador para o seu modelo. \n",
    "\n",
    "<img src='https://scikit-learn.org/stable/_static/ml_map.png' >"
   ]
  },
  {
   "cell_type": "markdown",
   "id": "adolescent-chorus",
   "metadata": {},
   "source": [
    "## Desafio 04 - Teste outros problemas.\n",
    "Nesse desafio, será criado um modelo que tentará descobrir se o experimento passado teve algum moa ativo, se teve de entre 1 a 4 moas ativos ou mais de 4 moas ativos. Diferente do último desafio, nesse têm-se três classificações envolvidas."
   ]
  },
  {
   "cell_type": "code",
   "execution_count": 177,
   "id": "indie-sunrise",
   "metadata": {},
   "outputs": [],
   "source": [
    "# 0 = nenhum moa ativo \n",
    "# 1 = 1 a 4 moas ativos (incluindo o 4) \n",
    "# 2 = mais de 4 moas ativos\n",
    "\n",
    "labels = [0,1,2]\n",
    "bins = [0, 0.5, 4, 7]\n",
    "\n",
    "dados_combinados['classificacao_n_moa'] = pd.cut(dados_combinados['n_moa'], bins = [-1, 0, 4, 7], labels = [0,1,2])"
   ]
  },
  {
   "cell_type": "markdown",
   "id": "nonprofit-contemporary",
   "metadata": {},
   "source": [
    "* Linear Support vector machine"
   ]
  },
  {
   "cell_type": "code",
   "execution_count": 178,
   "id": "signed-garage",
   "metadata": {},
   "outputs": [],
   "source": [
    "x = dados_combinados.select_dtypes('float64') # Assinatura da cultura (genes e tipos celulares)\n",
    "y = dados_combinados['classificacao_n_moa'] "
   ]
  },
  {
   "cell_type": "code",
   "execution_count": 179,
   "id": "rational-terrace",
   "metadata": {},
   "outputs": [
    {
     "data": {
      "text/plain": [
       "0.6626076002519421"
      ]
     },
     "execution_count": 179,
     "metadata": {},
     "output_type": "execute_result"
    }
   ],
   "source": [
    "x_treino, x_teste, y_treino, y_teste = train_test_split(x, y, test_size = 0.2, random_state=random_state)\n",
    "\n",
    "classifier = svm.SVC()\n",
    "classifier.fit(x_treino, y_treino)\n",
    "classifier.score(x_teste, y_teste)"
   ]
  },
  {
   "cell_type": "markdown",
   "id": "aging-committee",
   "metadata": {},
   "source": [
    "* Nearest Neighbors"
   ]
  },
  {
   "cell_type": "code",
   "execution_count": 180,
   "id": "turned-privacy",
   "metadata": {},
   "outputs": [
    {
     "data": {
      "text/plain": [
       "0.6369934914969557"
      ]
     },
     "execution_count": 180,
     "metadata": {},
     "output_type": "execute_result"
    }
   ],
   "source": [
    "x_treino, x_teste, y_treino, y_teste = train_test_split(x, y, test_size = 0.2, random_state=random_state)\n",
    "\n",
    "knn = KNeighborsClassifier(n_neighbors=101)\n",
    "knn.fit(x_treino,y_treino)\n",
    "knn.score(x_teste, y_teste)"
   ]
  },
  {
   "cell_type": "markdown",
   "id": "thermal-guyana",
   "metadata": {},
   "source": [
    "## Desafio 05 - Escolha a droga mais utilizada e tente criar um modelo para prever a label. \n",
    "Nesse desafio, a assinatura dos experimentos que tiveram o composto \"cacb2b860\" utilizado, serão utilizadas para treinar um modelo que irá identificar se o experimento durou 24 horas, 48 horas ou 72 horas."
   ]
  },
  {
   "cell_type": "code",
   "execution_count": 181,
   "id": "proper-density",
   "metadata": {},
   "outputs": [],
   "source": [
    "cacb2b860 = dados_combinados.query('composto == \"cacb2b860\"')\n",
    "x = cacb2b860.select_dtypes('float64') \n",
    "y = cacb2b860['tempo'] "
   ]
  },
  {
   "cell_type": "code",
   "execution_count": 182,
   "id": "accurate-pierce",
   "metadata": {},
   "outputs": [
    {
     "data": {
      "text/plain": [
       "0.8181818181818182"
      ]
     },
     "execution_count": 182,
     "metadata": {},
     "output_type": "execute_result"
    }
   ],
   "source": [
    "x_treino, x_teste, y_treino, y_teste = train_test_split(x, y, test_size = 0.2, random_state=random_state)\n",
    "\n",
    "classifier = svm.SVC()\n",
    "classifier.fit(x_treino, y_treino)\n",
    "classifier.score(x_teste, y_teste)"
   ]
  }
 ],
 "metadata": {
  "kernelspec": {
   "display_name": "Python 3",
   "language": "python",
   "name": "python3"
  },
  "language_info": {
   "codemirror_mode": {
    "name": "ipython",
    "version": 3
   },
   "file_extension": ".py",
   "mimetype": "text/x-python",
   "name": "python",
   "nbconvert_exporter": "python",
   "pygments_lexer": "ipython3",
   "version": "3.9.2"
  }
 },
 "nbformat": 4,
 "nbformat_minor": 5
}
